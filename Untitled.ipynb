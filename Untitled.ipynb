{
 "cells": [
  {
   "cell_type": "code",
   "execution_count": 1,
   "id": "8c6ff9c1-10f6-4a71-9ae9-d61488fffed0",
   "metadata": {},
   "outputs": [],
   "source": [
    "# import pandas \n",
    "# xcdscscdcs"
   ]
  },
  {
   "cell_type": "code",
   "execution_count": 4,
   "id": "501dbffe-bfa0-4bdf-b82b-a1385423da3c",
   "metadata": {},
   "outputs": [
    {
     "name": "stdout",
     "output_type": "stream",
     "text": [
      "Collecting geopandas\n",
      "  Downloading geopandas-0.12.1-py3-none-any.whl (1.1 MB)\n",
      "     |████████████████████████████████| 1.1 MB 1.6 MB/s            \n",
      "\u001b[?25hRequirement already satisfied: packaging in /gpfs/space/software/jupyterhub/python/jupyter/lib/python3.10/site-packages (from geopandas) (21.3)\n",
      "Collecting pyproj>=2.6.1.post1\n",
      "  Downloading pyproj-3.4.0-cp310-cp310-manylinux_2_17_x86_64.manylinux2014_x86_64.whl (7.7 MB)\n",
      "     |████████████████████████████████| 7.7 MB 82.2 MB/s            \n",
      "\u001b[?25hCollecting fiona>=1.8\n",
      "  Downloading Fiona-1.8.22-cp310-cp310-manylinux_2_17_x86_64.manylinux2014_x86_64.whl (16.6 MB)\n",
      "     |████████████████████████████████| 16.6 MB 83.0 MB/s                          | 5.0 MB 83.0 MB/s eta 0:00:01\n",
      "\u001b[?25hRequirement already satisfied: pandas>=1.0.0 in /gpfs/space/software/jupyterhub/python/jupyter/lib/python3.10/site-packages (from geopandas) (1.3.5)\n",
      "Collecting shapely>=1.7\n",
      "  Downloading Shapely-1.8.5.post1-cp310-cp310-manylinux_2_12_x86_64.manylinux2010_x86_64.whl (2.0 MB)\n",
      "     |████████████████████████████████| 2.0 MB 81.3 MB/s            \n",
      "\u001b[?25hCollecting click-plugins>=1.0\n",
      "  Downloading click_plugins-1.1.1-py2.py3-none-any.whl (7.5 kB)\n",
      "Requirement already satisfied: attrs>=17 in /gpfs/space/software/jupyterhub/python/jupyter/lib/python3.10/site-packages (from fiona>=1.8->geopandas) (21.2.0)\n",
      "Requirement already satisfied: setuptools in /gpfs/space/software/jupyterhub/python/jupyter/lib/python3.10/site-packages (from fiona>=1.8->geopandas) (58.1.0)\n",
      "Collecting cligj>=0.5\n",
      "  Downloading cligj-0.7.2-py3-none-any.whl (7.1 kB)\n",
      "Collecting click>=4.0\n",
      "  Downloading click-8.1.3-py3-none-any.whl (96 kB)\n",
      "     |████████████████████████████████| 96 kB 10.7 MB/s            \n",
      "\u001b[?25hCollecting munch\n",
      "  Downloading munch-2.5.0-py2.py3-none-any.whl (10 kB)\n",
      "Requirement already satisfied: six>=1.7 in /gpfs/space/software/jupyterhub/python/jupyter/lib/python3.10/site-packages (from fiona>=1.8->geopandas) (1.16.0)\n",
      "Requirement already satisfied: certifi in /gpfs/space/software/jupyterhub/python/jupyter/lib/python3.10/site-packages (from fiona>=1.8->geopandas) (2021.10.8)\n",
      "Requirement already satisfied: pytz>=2017.3 in /gpfs/space/software/jupyterhub/python/jupyter/lib/python3.10/site-packages (from pandas>=1.0.0->geopandas) (2021.3)\n",
      "Requirement already satisfied: numpy>=1.21.0 in /gpfs/space/software/jupyterhub/python/jupyter/lib/python3.10/site-packages (from pandas>=1.0.0->geopandas) (1.21.5)\n",
      "Requirement already satisfied: python-dateutil>=2.7.3 in /gpfs/space/software/jupyterhub/python/jupyter/lib/python3.10/site-packages (from pandas>=1.0.0->geopandas) (2.8.2)\n",
      "Requirement already satisfied: pyparsing!=3.0.5,>=2.0.2 in /gpfs/space/software/jupyterhub/python/jupyter/lib/python3.10/site-packages (from packaging->geopandas) (3.0.6)\n",
      "Installing collected packages: click, munch, cligj, click-plugins, shapely, pyproj, fiona, geopandas\n",
      "\u001b[31mERROR: Could not install packages due to an OSError: [Errno 13] Permission denied: '/gpfs/space/software/jupyterhub/python/jupyter/lib/python3.10/site-packages/click'\n",
      "Check the permissions.\n",
      "\u001b[0m\n",
      "\u001b[33mWARNING: You are using pip version 21.3.1; however, version 22.3.1 is available.\n",
      "You should consider upgrading via the '/gpfs/space/software/jupyterhub/python/jupyter/bin/python -m pip install --upgrade pip' command.\u001b[0m\n"
     ]
    }
   ],
   "source": [
    "!pip install geopandas"
   ]
  }
 ],
 "metadata": {
  "kernelspec": {
   "display_name": "Python 3 (ipykernel)",
   "language": "python",
   "name": "python3"
  },
  "language_info": {
   "codemirror_mode": {
    "name": "ipython",
    "version": 3
   },
   "file_extension": ".py",
   "mimetype": "text/x-python",
   "name": "python",
   "nbconvert_exporter": "python",
   "pygments_lexer": "ipython3",
   "version": "3.10.1"
  },
  "toc-showmarkdowntxt": false
 },
 "nbformat": 4,
 "nbformat_minor": 5
}
