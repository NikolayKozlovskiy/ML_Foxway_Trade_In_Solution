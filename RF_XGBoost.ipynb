{
 "cells": [
  {
   "cell_type": "code",
   "execution_count": 6,
   "id": "72027b95",
   "metadata": {},
   "outputs": [],
   "source": [
    "import numpy as np\n",
    "import pandas as pd\n",
    "from PIL import Image\n",
    "import os \n",
    "import os.path\n",
    "import cv2\n",
    "import numpy as np\n",
    "import matplotlib.pyplot as plt"
   ]
  },
  {
   "cell_type": "code",
   "execution_count": 7,
   "id": "726c42a4",
   "metadata": {},
   "outputs": [],
   "source": [
    "\n",
    "PATH = './labelled_images'\n",
    "image_urls=[os.path.join(PATH, image) for image in os.listdir(PATH)]\n"
   ]
  },
  {
   "cell_type": "code",
   "execution_count": 8,
   "id": "f417ea45",
   "metadata": {},
   "outputs": [],
   "source": [
    "\n",
    "img_example= cv2.imread(image_urls[0], cv2.IMREAD_UNCHANGED)\n"
   ]
  },
  {
   "cell_type": "code",
   "execution_count": 9,
   "id": "ca1a909b",
   "metadata": {},
   "outputs": [],
   "source": [
    "\n",
    "scale_percent = 10\n",
    "width = int(img_example.shape[1] * scale_percent / 100)\n",
    "height = int(img_example.shape[0] * scale_percent / 100)\n",
    "dim = (width, height)\n"
   ]
  },
  {
   "cell_type": "code",
   "execution_count": 10,
   "id": "67a5dd05",
   "metadata": {},
   "outputs": [],
   "source": [
    "\n",
    "image_urls.remove(\"./labelled_images/.ipynb_checkpoints\")\n"
   ]
  },
  {
   "cell_type": "code",
   "execution_count": 11,
   "id": "b216d3e4",
   "metadata": {},
   "outputs": [],
   "source": [
    "\n",
    "images_resized=[cv2.resize(cv2.imread(image_url, cv2.IMREAD_UNCHANGED), dim, interpolation = cv2.INTER_AREA) for image_url in image_urls]\n"
   ]
  },
  {
   "cell_type": "code",
   "execution_count": 12,
   "id": "c52a17bd",
   "metadata": {},
   "outputs": [],
   "source": [
    "\n",
    "image_array=np.array([cv2.cvtColor(image_resized, cv2.COLOR_BGR2RGB) for image_resized in images_resized])\n"
   ]
  },
  {
   "cell_type": "code",
   "execution_count": 13,
   "id": "08b82b2d",
   "metadata": {
    "scrolled": false
   },
   "outputs": [],
   "source": [
    "\n",
    "image_labels=np.array([image_url.split('/')[-1].split('_')[1] for image_url in image_urls])\n"
   ]
  },
  {
   "cell_type": "code",
   "execution_count": 14,
   "id": "eb6d8709",
   "metadata": {},
   "outputs": [],
   "source": [
    "\n",
    "import re\n",
    "image_labels_final=np.array([ 'working' if bool(re.search('.jpeg$', image_label)) else image_label for image_label in image_labels])\n",
    "        "
   ]
  },
  {
   "cell_type": "code",
   "execution_count": 15,
   "id": "aacfd612",
   "metadata": {},
   "outputs": [],
   "source": [
    "\n",
    "image_labels_final[image_labels_final == 'working'] = 0\n",
    "image_labels_final[image_labels_final == 'crack'] = 1\n",
    "image_labels_final[image_labels_final == 'lcd'] = 2\n",
    "image_labels_final[image_labels_final == 'crackandlcd'] = 3\n"
   ]
  },
  {
   "cell_type": "code",
   "execution_count": 16,
   "id": "b99918b1",
   "metadata": {},
   "outputs": [],
   "source": [
    "\n",
    "from sklearn.model_selection import train_test_split\n",
    "X_train, X_test, y_train, y_test = train_test_split(image_array, image_labels_final, test_size=0.3, random_state=4)\n"
   ]
  },
  {
   "cell_type": "code",
   "execution_count": 17,
   "id": "6ef5b734",
   "metadata": {},
   "outputs": [],
   "source": [
    "\n",
    "nsamples, nx, ny, nrgb = X_train.shape\n",
    "X_train_resh = X_train.reshape(nsamples, nx*ny*nrgb)\n",
    "\n",
    "nsamples_test, nx_test, ny_test, nrgb_test = X_test.shape\n",
    "X_test_resh = X_test.reshape(nsamples_test, nx_test*ny_test*nrgb_test)\n",
    "\n"
   ]
  },
  {
   "cell_type": "code",
   "execution_count": 18,
   "id": "46cfe237",
   "metadata": {},
   "outputs": [],
   "source": [
    "\n",
    "y_train=y_train.astype(int)\n",
    "y_test=y_test.astype(int)\n"
   ]
  },
  {
   "cell_type": "code",
   "execution_count": 36,
   "id": "fd394fe8",
   "metadata": {
    "scrolled": true
   },
   "outputs": [
    {
     "name": "stdout",
     "output_type": "stream",
     "text": [
      "_____________________\n",
      "10\n",
      "_____________________\n",
      "60\n",
      "_____________________\n",
      "110\n",
      "_____________________\n",
      "160\n",
      "_____________________\n",
      "210\n",
      "_____________________\n",
      "260\n",
      "_____________________\n",
      "310\n",
      "_____________________\n",
      "360\n",
      "_____________________\n",
      "410\n",
      "_____________________\n",
      "460\n",
      "_____________________\n",
      "510\n",
      "_____________________\n",
      "560\n",
      "_____________________\n",
      "610\n",
      "_____________________\n",
      "660\n",
      "_____________________\n",
      "710\n",
      "_____________________\n",
      "760\n",
      "_____________________\n",
      "810\n",
      "_____________________\n",
      "860\n",
      "_____________________\n",
      "910\n",
      "_____________________\n",
      "960\n",
      "The best ones:\n",
      "Accuracy 0.74699 at 260\n",
      "Recall 0.50953 at 260\n",
      "F1 score 0.50221 at 260\n",
      "AAAAAA [0.6747, 0.6506, 0.66265, 0.71084, 0.71084, 0.74699, 0.73494, 0.68675, 0.72289, 0.72289, 0.73494, 0.71084, 0.72289, 0.72289, 0.71084, 0.72289, 0.71084, 0.71084, 0.6988, 0.74699]\n"
     ]
    }
   ],
   "source": [
    "\n",
    "from sklearn.ensemble import RandomForestClassifier\n",
    "from sklearn.metrics import recall_score\n",
    "from sklearn.metrics import f1_score\n",
    "\n",
    "fsc1=0\n",
    "fsc1s=0\n",
    "\n",
    "rec=0\n",
    "recs=0\n",
    "\n",
    "accur=0\n",
    "accurs=0\n",
    "\n",
    "acc_list=[]\n",
    "\n",
    "for i in range(10, 1010, 50):\n",
    "    print(\"_____________________\")\n",
    "    print(i)\n",
    "    RF = RandomForestClassifier(n_estimators= i)\n",
    "    RF.fit(X_train_resh, y_train)\n",
    "    predicted=RF.predict(X_test_resh)\n",
    "    \n",
    "    acc=round(RF.score(X_test_resh, y_test), 5)\n",
    "    #print(f\"Validation accuracy for {i} is {acc}%\")\n",
    "    acc_list.append(acc)\n",
    "    \n",
    "    recall=round(recall_score(y_test, predicted, average='macro'), 5)\n",
    "    #print(f\"Recall score for {i} is {recall}\")\n",
    "    \n",
    "    \n",
    "    f1=round(f1_score(y_test, predicted, average='macro'),5)\n",
    "    #print(f\"F1 score for {i} is {f1}\")\n",
    "    \n",
    "    if f1 > fsc1:\n",
    "        fsc1=f1\n",
    "        fsc1s=i\n",
    "    if acc > accur:\n",
    "        accur=acc\n",
    "        accurs=i\n",
    "        \n",
    "    if recall > rec:\n",
    "        rec=recall\n",
    "        recs=i\n",
    "        \n",
    "\n",
    "print(\"The best ones:\")\n",
    "print(\"Accuracy\", accur, \"at\", accurs)\n",
    "print(\"Recall\", rec, \"at\", recs)\n",
    "print(\"F1 score\", fsc1, \"at\", fsc1s)\n"
   ]
  },
  {
   "cell_type": "code",
   "execution_count": 37,
   "id": "22396533",
   "metadata": {},
   "outputs": [
    {
     "name": "stdout",
     "output_type": "stream",
     "text": [
      "[0.6747, 0.6506, 0.66265, 0.71084, 0.71084, 0.74699, 0.73494, 0.68675, 0.72289, 0.72289, 0.73494, 0.71084, 0.72289, 0.72289, 0.71084, 0.72289, 0.71084, 0.71084, 0.6988, 0.74699]\n"
     ]
    }
   ],
   "source": [
    "print(acc_list)"
   ]
  },
  {
   "cell_type": "code",
   "execution_count": 38,
   "id": "6051cf49",
   "metadata": {},
   "outputs": [
    {
     "data": {
      "text/html": [
       "<style>#sk-container-id-3 {color: black;background-color: white;}#sk-container-id-3 pre{padding: 0;}#sk-container-id-3 div.sk-toggleable {background-color: white;}#sk-container-id-3 label.sk-toggleable__label {cursor: pointer;display: block;width: 100%;margin-bottom: 0;padding: 0.3em;box-sizing: border-box;text-align: center;}#sk-container-id-3 label.sk-toggleable__label-arrow:before {content: \"▸\";float: left;margin-right: 0.25em;color: #696969;}#sk-container-id-3 label.sk-toggleable__label-arrow:hover:before {color: black;}#sk-container-id-3 div.sk-estimator:hover label.sk-toggleable__label-arrow:before {color: black;}#sk-container-id-3 div.sk-toggleable__content {max-height: 0;max-width: 0;overflow: hidden;text-align: left;background-color: #f0f8ff;}#sk-container-id-3 div.sk-toggleable__content pre {margin: 0.2em;color: black;border-radius: 0.25em;background-color: #f0f8ff;}#sk-container-id-3 input.sk-toggleable__control:checked~div.sk-toggleable__content {max-height: 200px;max-width: 100%;overflow: auto;}#sk-container-id-3 input.sk-toggleable__control:checked~label.sk-toggleable__label-arrow:before {content: \"▾\";}#sk-container-id-3 div.sk-estimator input.sk-toggleable__control:checked~label.sk-toggleable__label {background-color: #d4ebff;}#sk-container-id-3 div.sk-label input.sk-toggleable__control:checked~label.sk-toggleable__label {background-color: #d4ebff;}#sk-container-id-3 input.sk-hidden--visually {border: 0;clip: rect(1px 1px 1px 1px);clip: rect(1px, 1px, 1px, 1px);height: 1px;margin: -1px;overflow: hidden;padding: 0;position: absolute;width: 1px;}#sk-container-id-3 div.sk-estimator {font-family: monospace;background-color: #f0f8ff;border: 1px dotted black;border-radius: 0.25em;box-sizing: border-box;margin-bottom: 0.5em;}#sk-container-id-3 div.sk-estimator:hover {background-color: #d4ebff;}#sk-container-id-3 div.sk-parallel-item::after {content: \"\";width: 100%;border-bottom: 1px solid gray;flex-grow: 1;}#sk-container-id-3 div.sk-label:hover label.sk-toggleable__label {background-color: #d4ebff;}#sk-container-id-3 div.sk-serial::before {content: \"\";position: absolute;border-left: 1px solid gray;box-sizing: border-box;top: 0;bottom: 0;left: 50%;z-index: 0;}#sk-container-id-3 div.sk-serial {display: flex;flex-direction: column;align-items: center;background-color: white;padding-right: 0.2em;padding-left: 0.2em;position: relative;}#sk-container-id-3 div.sk-item {position: relative;z-index: 1;}#sk-container-id-3 div.sk-parallel {display: flex;align-items: stretch;justify-content: center;background-color: white;position: relative;}#sk-container-id-3 div.sk-item::before, #sk-container-id-3 div.sk-parallel-item::before {content: \"\";position: absolute;border-left: 1px solid gray;box-sizing: border-box;top: 0;bottom: 0;left: 50%;z-index: -1;}#sk-container-id-3 div.sk-parallel-item {display: flex;flex-direction: column;z-index: 1;position: relative;background-color: white;}#sk-container-id-3 div.sk-parallel-item:first-child::after {align-self: flex-end;width: 50%;}#sk-container-id-3 div.sk-parallel-item:last-child::after {align-self: flex-start;width: 50%;}#sk-container-id-3 div.sk-parallel-item:only-child::after {width: 0;}#sk-container-id-3 div.sk-dashed-wrapped {border: 1px dashed gray;margin: 0 0.4em 0.5em 0.4em;box-sizing: border-box;padding-bottom: 0.4em;background-color: white;}#sk-container-id-3 div.sk-label label {font-family: monospace;font-weight: bold;display: inline-block;line-height: 1.2em;}#sk-container-id-3 div.sk-label-container {text-align: center;}#sk-container-id-3 div.sk-container {/* jupyter's `normalize.less` sets `[hidden] { display: none; }` but bootstrap.min.css set `[hidden] { display: none !important; }` so we also need the `!important` here to be able to override the default hidden behavior on the sphinx rendered scikit-learn.org. See: https://github.com/scikit-learn/scikit-learn/issues/21755 */display: inline-block !important;position: relative;}#sk-container-id-3 div.sk-text-repr-fallback {display: none;}</style><div id=\"sk-container-id-3\" class=\"sk-top-container\"><div class=\"sk-text-repr-fallback\"><pre>RandomForestClassifier(n_estimators=260)</pre><b>In a Jupyter environment, please rerun this cell to show the HTML representation or trust the notebook. <br />On GitHub, the HTML representation is unable to render, please try loading this page with nbviewer.org.</b></div><div class=\"sk-container\" hidden><div class=\"sk-item\"><div class=\"sk-estimator sk-toggleable\"><input class=\"sk-toggleable__control sk-hidden--visually\" id=\"sk-estimator-id-3\" type=\"checkbox\" checked><label for=\"sk-estimator-id-3\" class=\"sk-toggleable__label sk-toggleable__label-arrow\">RandomForestClassifier</label><div class=\"sk-toggleable__content\"><pre>RandomForestClassifier(n_estimators=260)</pre></div></div></div></div></div>"
      ],
      "text/plain": [
       "RandomForestClassifier(n_estimators=260)"
      ]
     },
     "execution_count": 38,
     "metadata": {},
     "output_type": "execute_result"
    }
   ],
   "source": [
    "\n",
    "RF_optim = RandomForestClassifier(n_estimators= accurs)\n",
    "RF_optim.fit(X_train_resh, y_train)\n"
   ]
  },
  {
   "cell_type": "code",
   "execution_count": 40,
   "id": "a12e7c19",
   "metadata": {},
   "outputs": [
    {
     "name": "stdout",
     "output_type": "stream",
     "text": [
      "Accuracy at 260 estimators is 77.11% \n",
      "Recall is 77.11%\n",
      "F1 score is 51.79%\n"
     ]
    }
   ],
   "source": [
    "\n",
    "predicted=RF_optim.predict(X_test_resh)\n",
    "print(f\"Accuracy at {accurs} estimators is {round(RF_optim.score(X_test_resh, y_test)*100, 2)}% \\nRecall is {round(recall_score(y_test, predicted, average='micro')*100, 2)}%\\nF1 score is {round(f1_score(y_test, predicted, average='macro')*100,2)}%\")\n",
    "                                                                           "
   ]
  },
  {
   "cell_type": "code",
   "execution_count": 22,
   "id": "a263d15f",
   "metadata": {},
   "outputs": [],
   "source": [
    "\n",
    "import xgboost as xgb\n",
    "import sklearn\n"
   ]
  },
  {
   "cell_type": "code",
   "execution_count": 23,
   "id": "50790f5c",
   "metadata": {},
   "outputs": [],
   "source": [
    "\n",
    "dtrain = xgb.DMatrix(X_train_resh, label=y_train)\n",
    "dtest = xgb.DMatrix(X_test_resh, label=y_test)\n"
   ]
  },
  {
   "cell_type": "code",
   "execution_count": 25,
   "id": "db3a6ebb",
   "metadata": {},
   "outputs": [
    {
     "name": "stdout",
     "output_type": "stream",
     "text": [
      "_________\n",
      "1\n",
      "[0]\ttrain-merror:0.30570\tvalidation-merror:0.43373\n",
      "[1]\ttrain-merror:0.30052\tvalidation-merror:0.38554\n",
      "[2]\ttrain-merror:0.29534\tvalidation-merror:0.39759\n",
      "[3]\ttrain-merror:0.27979\tvalidation-merror:0.38554\n",
      "[4]\ttrain-merror:0.26425\tvalidation-merror:0.39759\n",
      "[5]\ttrain-merror:0.22798\tvalidation-merror:0.37349\n",
      "[6]\ttrain-merror:0.22280\tvalidation-merror:0.38554\n",
      "[7]\ttrain-merror:0.19689\tvalidation-merror:0.36145\n",
      "[8]\ttrain-merror:0.17617\tvalidation-merror:0.38554\n",
      "[9]\ttrain-merror:0.17098\tvalidation-merror:0.36145\n",
      "[10]\ttrain-merror:0.16580\tvalidation-merror:0.36145\n",
      "[11]\ttrain-merror:0.13472\tvalidation-merror:0.33735\n",
      "[12]\ttrain-merror:0.13990\tvalidation-merror:0.34940\n",
      "[13]\ttrain-merror:0.11399\tvalidation-merror:0.36145\n",
      "[14]\ttrain-merror:0.09326\tvalidation-merror:0.36145\n",
      "[15]\ttrain-merror:0.08290\tvalidation-merror:0.33735\n",
      "_________\n",
      "4\n",
      "[0]\ttrain-merror:0.07254\tvalidation-merror:0.37349\n",
      "[1]\ttrain-merror:0.03627\tvalidation-merror:0.38554\n",
      "[2]\ttrain-merror:0.02591\tvalidation-merror:0.37349\n",
      "[3]\ttrain-merror:0.01036\tvalidation-merror:0.33735\n",
      "[4]\ttrain-merror:0.00518\tvalidation-merror:0.33735\n",
      "[5]\ttrain-merror:0.00518\tvalidation-merror:0.32530\n",
      "[6]\ttrain-merror:0.00000\tvalidation-merror:0.33735\n",
      "[7]\ttrain-merror:0.00000\tvalidation-merror:0.36145\n",
      "[8]\ttrain-merror:0.00000\tvalidation-merror:0.33735\n",
      "[9]\ttrain-merror:0.00000\tvalidation-merror:0.32530\n",
      "_________\n",
      "7\n",
      "[0]\ttrain-merror:0.00000\tvalidation-merror:0.39759\n",
      "[1]\ttrain-merror:0.00000\tvalidation-merror:0.34940\n",
      "[2]\ttrain-merror:0.00000\tvalidation-merror:0.38554\n",
      "[3]\ttrain-merror:0.00000\tvalidation-merror:0.34940\n",
      "[4]\ttrain-merror:0.00000\tvalidation-merror:0.32530\n",
      "[5]\ttrain-merror:0.00000\tvalidation-merror:0.31325\n",
      "[6]\ttrain-merror:0.00000\tvalidation-merror:0.32530\n",
      "[7]\ttrain-merror:0.00000\tvalidation-merror:0.31325\n",
      "[8]\ttrain-merror:0.00000\tvalidation-merror:0.30120\n",
      "[9]\ttrain-merror:0.00000\tvalidation-merror:0.30120\n",
      "[10]\ttrain-merror:0.00000\tvalidation-merror:0.32530\n",
      "[11]\ttrain-merror:0.00000\tvalidation-merror:0.32530\n",
      "[12]\ttrain-merror:0.00000\tvalidation-merror:0.31325\n",
      "_________\n",
      "10\n",
      "[0]\ttrain-merror:0.00000\tvalidation-merror:0.39759\n",
      "[1]\ttrain-merror:0.00000\tvalidation-merror:0.34940\n",
      "[2]\ttrain-merror:0.00000\tvalidation-merror:0.38554\n",
      "[3]\ttrain-merror:0.00000\tvalidation-merror:0.37349\n",
      "[4]\ttrain-merror:0.00000\tvalidation-merror:0.33735\n",
      "[5]\ttrain-merror:0.00000\tvalidation-merror:0.33735\n",
      "[6]\ttrain-merror:0.00000\tvalidation-merror:0.33735\n",
      "[7]\ttrain-merror:0.00000\tvalidation-merror:0.33735\n",
      "[8]\ttrain-merror:0.00000\tvalidation-merror:0.32530\n",
      "[9]\ttrain-merror:0.00000\tvalidation-merror:0.33735\n",
      "[10]\ttrain-merror:0.00000\tvalidation-merror:0.32530\n",
      "[11]\ttrain-merror:0.00000\tvalidation-merror:0.32530\n",
      "[12]\ttrain-merror:0.00000\tvalidation-merror:0.32530\n",
      "_________\n",
      "13\n",
      "[0]\ttrain-merror:0.00000\tvalidation-merror:0.39759\n",
      "[1]\ttrain-merror:0.00000\tvalidation-merror:0.34940\n",
      "[2]\ttrain-merror:0.00000\tvalidation-merror:0.38554\n",
      "[3]\ttrain-merror:0.00000\tvalidation-merror:0.37349\n",
      "[4]\ttrain-merror:0.00000\tvalidation-merror:0.34940\n",
      "[5]\ttrain-merror:0.00000\tvalidation-merror:0.34940\n",
      "_________\n",
      "16\n",
      "[0]\ttrain-merror:0.00000\tvalidation-merror:0.39759\n",
      "[1]\ttrain-merror:0.00000\tvalidation-merror:0.34940\n",
      "[2]\ttrain-merror:0.00000\tvalidation-merror:0.38554\n",
      "[3]\ttrain-merror:0.00000\tvalidation-merror:0.37349\n",
      "[4]\ttrain-merror:0.00000\tvalidation-merror:0.34940\n",
      "[5]\ttrain-merror:0.00000\tvalidation-merror:0.34940\n",
      "_________\n",
      "19\n",
      "[0]\ttrain-merror:0.00000\tvalidation-merror:0.39759\n",
      "[1]\ttrain-merror:0.00000\tvalidation-merror:0.34940\n",
      "[2]\ttrain-merror:0.00000\tvalidation-merror:0.38554\n",
      "[3]\ttrain-merror:0.00000\tvalidation-merror:0.37349\n",
      "[4]\ttrain-merror:0.00000\tvalidation-merror:0.34940\n",
      "_________\n",
      "22\n",
      "[0]\ttrain-merror:0.00000\tvalidation-merror:0.39759\n",
      "[1]\ttrain-merror:0.00000\tvalidation-merror:0.34940\n",
      "[2]\ttrain-merror:0.00000\tvalidation-merror:0.38554\n",
      "[3]\ttrain-merror:0.00000\tvalidation-merror:0.37349\n",
      "[4]\ttrain-merror:0.00000\tvalidation-merror:0.34940\n",
      "[5]\ttrain-merror:0.00000\tvalidation-merror:0.34940\n",
      "_________\n",
      "25\n",
      "[0]\ttrain-merror:0.00000\tvalidation-merror:0.39759\n",
      "[1]\ttrain-merror:0.00000\tvalidation-merror:0.34940\n",
      "[2]\ttrain-merror:0.00000\tvalidation-merror:0.38554\n",
      "[3]\ttrain-merror:0.00000\tvalidation-merror:0.37349\n",
      "[4]\ttrain-merror:0.00000\tvalidation-merror:0.34940\n",
      "_________\n",
      "28\n",
      "[0]\ttrain-merror:0.00000\tvalidation-merror:0.39759\n",
      "[1]\ttrain-merror:0.00000\tvalidation-merror:0.34940\n",
      "[2]\ttrain-merror:0.00000\tvalidation-merror:0.38554\n",
      "[3]\ttrain-merror:0.00000\tvalidation-merror:0.37349\n",
      "[4]\ttrain-merror:0.00000\tvalidation-merror:0.34940\n",
      "[5]\ttrain-merror:0.00000\tvalidation-merror:0.34940\n",
      "_________\n",
      "31\n",
      "[0]\ttrain-merror:0.00000\tvalidation-merror:0.39759\n",
      "[1]\ttrain-merror:0.00000\tvalidation-merror:0.34940\n",
      "[2]\ttrain-merror:0.00000\tvalidation-merror:0.38554\n",
      "[3]\ttrain-merror:0.00000\tvalidation-merror:0.37349\n",
      "[4]\ttrain-merror:0.00000\tvalidation-merror:0.34940\n",
      "_________\n",
      "34\n",
      "[0]\ttrain-merror:0.00000\tvalidation-merror:0.39759\n",
      "[1]\ttrain-merror:0.00000\tvalidation-merror:0.34940\n",
      "[2]\ttrain-merror:0.00000\tvalidation-merror:0.38554\n",
      "[3]\ttrain-merror:0.00000\tvalidation-merror:0.37349\n",
      "[4]\ttrain-merror:0.00000\tvalidation-merror:0.34940\n",
      "[5]\ttrain-merror:0.00000\tvalidation-merror:0.34940\n",
      "_________\n",
      "37\n",
      "[0]\ttrain-merror:0.00000\tvalidation-merror:0.39759\n",
      "[1]\ttrain-merror:0.00000\tvalidation-merror:0.34940\n",
      "[2]\ttrain-merror:0.00000\tvalidation-merror:0.38554\n",
      "[3]\ttrain-merror:0.00000\tvalidation-merror:0.37349\n",
      "[4]\ttrain-merror:0.00000\tvalidation-merror:0.34940\n",
      "_________\n",
      "40\n",
      "[0]\ttrain-merror:0.00000\tvalidation-merror:0.39759\n",
      "[1]\ttrain-merror:0.00000\tvalidation-merror:0.34940\n",
      "[2]\ttrain-merror:0.00000\tvalidation-merror:0.38554\n",
      "[3]\ttrain-merror:0.00000\tvalidation-merror:0.37349\n",
      "[4]\ttrain-merror:0.00000\tvalidation-merror:0.34940\n",
      "[5]\ttrain-merror:0.00000\tvalidation-merror:0.34940\n"
     ]
    }
   ],
   "source": [
    "\n",
    "n_rounds = 300\n",
    "early_stopping = 4\n",
    "\n",
    "highsc=0\n",
    "nr=0\n",
    "\n",
    "eval_list = [(dtrain, \"train\"), (dtest, \"validation\")]\n",
    "\n",
    "for i in range(1, 41, 3):\n",
    "    print(\"_________\")\n",
    "    print(i)\n",
    "    param_list = [(\"objective\", \"multi:softmax\"), (\"eval_metric\", \"merror\"), (\"num_class\", 3), (\"max_depth\", i)]\n",
    "    bst = xgb.train(param_list, dtrain, n_rounds, evals=eval_list, early_stopping_rounds=early_stopping, verbose_eval=True)\n",
    "    ypred = bst.predict(dtest)\n",
    "    score=sklearn.metrics.accuracy_score(ypred, y_test)*100\n",
    "    if score > highsc:\n",
    "        highsc=score\n",
    "        nr=i\n"
   ]
  },
  {
   "cell_type": "code",
   "execution_count": 30,
   "id": "eefcf891",
   "metadata": {},
   "outputs": [
    {
     "name": "stdout",
     "output_type": "stream",
     "text": [
      "68.67469879518072 7\n"
     ]
    }
   ],
   "source": [
    "print(highsc, nr)"
   ]
  },
  {
   "cell_type": "code",
   "execution_count": 31,
   "id": "6d6db00a",
   "metadata": {
    "scrolled": true
   },
   "outputs": [
    {
     "name": "stdout",
     "output_type": "stream",
     "text": [
      "[0]\ttrain-mlogloss:0.76394\tvalidation-mlogloss:0.97735\n",
      "[1]\ttrain-mlogloss:0.55661\tvalidation-mlogloss:0.89595\n",
      "[2]\ttrain-mlogloss:0.41797\tvalidation-mlogloss:0.86860\n",
      "[3]\ttrain-mlogloss:0.32082\tvalidation-mlogloss:0.82064\n",
      "[4]\ttrain-mlogloss:0.25192\tvalidation-mlogloss:0.78278\n",
      "[5]\ttrain-mlogloss:0.19559\tvalidation-mlogloss:0.77428\n",
      "[6]\ttrain-mlogloss:0.15603\tvalidation-mlogloss:0.75058\n",
      "[7]\ttrain-mlogloss:0.12448\tvalidation-mlogloss:0.72950\n",
      "[8]\ttrain-mlogloss:0.10173\tvalidation-mlogloss:0.71121\n",
      "[9]\ttrain-mlogloss:0.08418\tvalidation-mlogloss:0.71257\n",
      "[10]\ttrain-mlogloss:0.07121\tvalidation-mlogloss:0.70578\n",
      "[11]\ttrain-mlogloss:0.06080\tvalidation-mlogloss:0.70433\n",
      "[12]\ttrain-mlogloss:0.05225\tvalidation-mlogloss:0.69569\n",
      "[13]\ttrain-mlogloss:0.04604\tvalidation-mlogloss:0.70322\n",
      "[14]\ttrain-mlogloss:0.04081\tvalidation-mlogloss:0.69897\n",
      "[15]\ttrain-mlogloss:0.03647\tvalidation-mlogloss:0.70894\n",
      "[16]\ttrain-mlogloss:0.03261\tvalidation-mlogloss:0.70658\n",
      "[17]\ttrain-mlogloss:0.02984\tvalidation-mlogloss:0.69983\n",
      "[18]\ttrain-mlogloss:0.02754\tvalidation-mlogloss:0.70143\n",
      "[19]\ttrain-mlogloss:0.02542\tvalidation-mlogloss:0.69740\n",
      "[20]\ttrain-mlogloss:0.02380\tvalidation-mlogloss:0.70257\n",
      "[21]\ttrain-mlogloss:0.02214\tvalidation-mlogloss:0.69765\n",
      "[22]\ttrain-mlogloss:0.02077\tvalidation-mlogloss:0.70192\n",
      "[23]\ttrain-mlogloss:0.01976\tvalidation-mlogloss:0.70117\n",
      "[24]\ttrain-mlogloss:0.01879\tvalidation-mlogloss:0.70410\n",
      "[25]\ttrain-mlogloss:0.01785\tvalidation-mlogloss:0.71185\n",
      "[26]\ttrain-mlogloss:0.01710\tvalidation-mlogloss:0.71940\n",
      "[27]\ttrain-mlogloss:0.01643\tvalidation-mlogloss:0.71557\n"
     ]
    }
   ],
   "source": [
    "param_list = [(\"objective\", \"multi:softmax\"), (\"eval_metric\", \"mlogloss\"), (\"num_class\", 3), (\"max_depth\", nr)]\n",
    "\n",
    "n_rounds = 600\n",
    "\n",
    "early_stopping = 15\n",
    "eval_list = [(dtrain, \"train\"), (dtest, \"validation\")]\n",
    "\n",
    "bst = xgb.train(param_list, dtrain, n_rounds, evals=eval_list, early_stopping_rounds=early_stopping, verbose_eval=True)"
   ]
  },
  {
   "cell_type": "code",
   "execution_count": 32,
   "id": "4da3c936",
   "metadata": {},
   "outputs": [
    {
     "name": "stdout",
     "output_type": "stream",
     "text": [
      "Accuracy at 7 estimators is 67.47% \n",
      "Recall is 46.05%\n",
      "F1 score is 45.27%\n"
     ]
    }
   ],
   "source": [
    "\n",
    "ypred = bst.predict(dtest)\n",
    "print(f\"Accuracy at {nr} estimators is {round(sklearn.metrics.accuracy_score(y_test, ypred)*100, 2)}% \\nRecall is {round(recall_score(y_test, ypred, average='macro')*100, 2)}%\\nF1 score is {round(f1_score(y_test, ypred, average='macro')*100,2)}%\")\n",
    "                                            "
   ]
  }
 ],
 "metadata": {
  "kernelspec": {
   "display_name": "Python 3 (ipykernel)",
   "language": "python",
   "name": "python3"
  },
  "language_info": {
   "codemirror_mode": {
    "name": "ipython",
    "version": 3
   },
   "file_extension": ".py",
   "mimetype": "text/x-python",
   "name": "python",
   "nbconvert_exporter": "python",
   "pygments_lexer": "ipython3",
   "version": "3.10.8"
  }
 },
 "nbformat": 4,
 "nbformat_minor": 5
}
