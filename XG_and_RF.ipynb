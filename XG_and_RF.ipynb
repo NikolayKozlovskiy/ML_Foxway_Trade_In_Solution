{
 "cells": [
  {
   "cell_type": "code",
   "execution_count": 1,
   "id": "72027b95",
   "metadata": {},
   "outputs": [],
   "source": [
    "import numpy as np\n",
    "import pandas as pd\n",
    "from PIL import Image\n",
    "import os \n",
    "import os.path\n",
    "import cv2\n",
    "import numpy as np\n",
    "import matplotlib.pyplot as plt"
   ]
  },
  {
   "cell_type": "markdown",
   "id": "0bad7c51",
   "metadata": {},
   "source": [
    "**Reading in the data**"
   ]
  },
  {
   "cell_type": "code",
   "execution_count": 2,
   "id": "25dacc71",
   "metadata": {},
   "outputs": [],
   "source": [
    "\n",
    "WORKING = 0\n",
    "CRACK = 1\n",
    "LCD = 2\n",
    "\n",
    "CLASS_NUMBERS = [WORKING, CRACK, LCD]\n",
    "CLASS_NAMES = [\"Working\", \"Crack\", \"LCD\"]\n",
    "\n",
    "NUM_CLASSES = 3\n",
    "\n",
    "\n",
    "     "
   ]
  },
  {
   "cell_type": "code",
   "execution_count": 3,
   "id": "f5b872d4",
   "metadata": {},
   "outputs": [],
   "source": [
    "\n",
    "def collect_file_paths(path: str, ext: str) -> list[str]:\n",
    "    result = []\n",
    "    \n",
    "    for item in os.listdir(path):\n",
    "        item_path = os.path.join(path, item)\n",
    "        if os.path.isdir(item_path):\n",
    "            result.extend(collect_file_paths(item_path, ext))\n",
    "        elif item_path.endswith(ext):\n",
    "            result.append(item_path)\n",
    "                \n",
    "    return result"
   ]
  },
  {
   "cell_type": "code",
   "execution_count": 4,
   "id": "f405e012",
   "metadata": {},
   "outputs": [],
   "source": [
    "def images_to_array(image_paths: list[str], shrink_factor: int) -> np.ndarray:\n",
    "    images = []\n",
    "    \n",
    "    for image_file in image_paths:\n",
    "        image = cv2.cvtColor(cv2.imread(image_file), cv2.COLOR_BGR2RGB)\n",
    "        \n",
    "        new_size = (\n",
    "               int(image.shape[1] * shrink_factor / 100),\n",
    "               int(image.shape[0] * shrink_factor / 100)\n",
    "        )\n",
    "        image = cv2.resize(image, dsize = new_size, interpolation = cv2.INTER_AREA)\n",
    "        images.append(image)\n",
    "        \n",
    "    return np.array(images)"
   ]
  },
  {
   "cell_type": "code",
   "execution_count": 5,
   "id": "d3006785",
   "metadata": {},
   "outputs": [],
   "source": [
    "file_paths = collect_file_paths(\"images_for_model\", \".jpeg\")\n",
    "\n",
    "input_filepaths = []\n",
    "labels_list = []\n",
    "\n",
    "for path in file_paths:\n",
    "    file_name = path.split(\"/\")[-1]\n",
    "    labels = file_name.split(\"_\")\n",
    "\n",
    "    if not (\"unknown\" in labels):\n",
    "        if \"crack\" in labels and \"lcd\" in labels:\n",
    "            continue\n",
    "        elif \"crack\" in labels:\n",
    "            labels_list.append(CRACK)\n",
    "        elif \"lcd\" in labels:\n",
    "            labels_list.append(LCD)\n",
    "        else:\n",
    "            labels_list.append(WORKING)\n",
    "        input_filepaths.append(path)\n",
    "        \n",
    "X = images_to_array(input_filepaths, 20)\n",
    "y = np.array(labels_list)\n"
   ]
  },
  {
   "cell_type": "code",
   "execution_count": 6,
   "id": "243c472c",
   "metadata": {
    "scrolled": false
   },
   "outputs": [
    {
     "name": "stdout",
     "output_type": "stream",
     "text": [
      "Entire dataset\n",
      "--------------\n",
      "Input shape:  (259, 806, 604, 3)\n",
      "Output shape:  (259,)\n",
      "Number of working phones:  136\n",
      "Number of cracked phones:  107\n",
      "Number of phones with damaged lcd:  16\n",
      "\n"
     ]
    }
   ],
   "source": [
    "NUM_SAMPLES = X.shape[0]\n",
    "IMAGE_WIDTH = X.shape[1]\n",
    "IMAGE_HEIGHT = X.shape[2]\n",
    "IMAGE_SHAPE = (X.shape[1], X.shape[2], X.shape[3])\n",
    "\n",
    "print(\"Entire dataset\")\n",
    "print(\"--------------\")\n",
    "print(\"Input shape: \", X.shape)\n",
    "print(\"Output shape: \", y.shape)\n",
    "print(\"Number of working phones: \", np.sum(y == WORKING))\n",
    "print(\"Number of cracked phones: \", np.sum(y == CRACK))\n",
    "print(\"Number of phones with damaged lcd: \", np.sum(y == LCD))\n",
    "print(\"\")\n"
   ]
  },
  {
   "cell_type": "markdown",
   "id": "8f378069",
   "metadata": {},
   "source": [
    "**Preprocessing and stuff**"
   ]
  },
  {
   "cell_type": "code",
   "execution_count": 8,
   "id": "8cb9c98f",
   "metadata": {},
   "outputs": [],
   "source": [
    "from sklearn.model_selection import train_test_split\n",
    "X_train, X_test, y_train, y_test = train_test_split(X, y, test_size=0.3, random_state=4)"
   ]
  },
  {
   "cell_type": "code",
   "execution_count": 9,
   "id": "d867a4b0",
   "metadata": {},
   "outputs": [
    {
     "name": "stderr",
     "output_type": "stream",
     "text": [
      "2022-12-12 22:41:58.914303: I tensorflow/core/platform/cpu_feature_guard.cc:193] This TensorFlow binary is optimized with oneAPI Deep Neural Network Library (oneDNN) to use the following CPU instructions in performance-critical operations:  AVX2 AVX512F AVX512_VNNI FMA\n",
      "To enable them in other operations, rebuild TensorFlow with the appropriate compiler flags.\n",
      "2022-12-12 22:42:00.518321: I tensorflow/core/util/port.cc:104] oneDNN custom operations are on. You may see slightly different numerical results due to floating-point round-off errors from different computation orders. To turn them off, set the environment variable `TF_ENABLE_ONEDNN_OPTS=0`.\n",
      "2022-12-12 22:42:14.676282: W tensorflow/compiler/xla/stream_executor/platform/default/dso_loader.cc:64] Could not load dynamic library 'libnvinfer.so.7'; dlerror: libnvinfer.so.7: cannot open shared object file: No such file or directory; LD_LIBRARY_PATH: /gpfs/space/home/oliverpu/.conda/envs/condatest/lib/python3.10/site-packages/cv2/../../../../lib:/gpfs/space/software/cluster_software/manual/any/python/conda/3.8/lib\n",
      "2022-12-12 22:42:14.676675: W tensorflow/compiler/xla/stream_executor/platform/default/dso_loader.cc:64] Could not load dynamic library 'libnvinfer_plugin.so.7'; dlerror: libnvinfer_plugin.so.7: cannot open shared object file: No such file or directory; LD_LIBRARY_PATH: /gpfs/space/home/oliverpu/.conda/envs/condatest/lib/python3.10/site-packages/cv2/../../../../lib:/gpfs/space/software/cluster_software/manual/any/python/conda/3.8/lib\n",
      "2022-12-12 22:42:14.676706: W tensorflow/compiler/tf2tensorrt/utils/py_utils.cc:38] TF-TRT Warning: Cannot dlopen some TensorRT libraries. If you would like to use Nvidia GPU with TensorRT, please make sure the missing libraries mentioned above are installed properly.\n"
     ]
    }
   ],
   "source": [
    "from keras.preprocessing.image import ImageDataGenerator\n",
    "datagen = ImageDataGenerator(rotation_range=10, \n",
    "                             width_shift_range=0.1,     \n",
    "                             height_shift_range=0.1,\n",
    "                             zoom_range = [0.9, 1.1],\n",
    "                             brightness_range=[0.7, 1.3],\n",
    "                             horizontal_flip=True) "
   ]
  },
  {
   "cell_type": "code",
   "execution_count": 10,
   "id": "63e0b99b",
   "metadata": {},
   "outputs": [
    {
     "name": "stdout",
     "output_type": "stream",
     "text": [
      "0\n",
      "1\n",
      "2\n"
     ]
    }
   ],
   "source": [
    "gen_array=[]\n",
    "lab_array=[]\n",
    "for i in range(3):\n",
    "    print(i)\n",
    "    gen_imgs= datagen.flow(X_train, y_train, batch_size=150)\n",
    "    X_gen, y_gen = gen_imgs.next()\n",
    "    gen_array.append(X_gen)\n",
    "    lab_array.append(y_gen)"
   ]
  },
  {
   "cell_type": "code",
   "execution_count": 11,
   "id": "6622505d",
   "metadata": {
    "scrolled": true
   },
   "outputs": [
    {
     "name": "stderr",
     "output_type": "stream",
     "text": [
      "/tmp/ipykernel_21869/2613952312.py:3: VisibleDeprecationWarning: Creating an ndarray from ragged nested sequences (which is a list-or-tuple of lists-or-tuples-or ndarrays with different lengths or shapes) is deprecated. If you meant to do this, you must specify 'dtype=object' when creating the ndarray.\n",
      "  X_train_gen=np.concatenate(np.array(gen_array))\n",
      "/tmp/ipykernel_21869/2613952312.py:4: VisibleDeprecationWarning: Creating an ndarray from ragged nested sequences (which is a list-or-tuple of lists-or-tuples-or ndarrays with different lengths or shapes) is deprecated. If you meant to do this, you must specify 'dtype=object' when creating the ndarray.\n",
      "  y_train_gen=np.concatenate(np.array(lab_array))\n"
     ]
    }
   ],
   "source": [
    "gen_array.append(X_train)\n",
    "lab_array.append(y_train)\n",
    "X_train_gen=np.concatenate(np.array(gen_array))\n",
    "y_train_gen=np.concatenate(np.array(lab_array))"
   ]
  },
  {
   "cell_type": "code",
   "execution_count": 12,
   "id": "82897dc7",
   "metadata": {},
   "outputs": [],
   "source": [
    "nsamples, nx, ny, nrgb = X_train_gen.shape\n",
    "X_train_resh = X_train_gen.reshape(nsamples, nx*ny*nrgb)\n",
    "\n",
    "nsamples_test, nx_test, ny_test, nrgb_test = X_test.shape\n",
    "X_test_resh = X_test.reshape(nsamples_test, nx_test*ny_test*nrgb_test)"
   ]
  },
  {
   "cell_type": "markdown",
   "id": "1d942098",
   "metadata": {},
   "source": [
    "**Random Forest**"
   ]
  },
  {
   "cell_type": "code",
   "execution_count": 13,
   "id": "1eeb3047",
   "metadata": {},
   "outputs": [],
   "source": [
    "\n",
    "from sklearn.ensemble import RandomForestClassifier\n",
    "from sklearn.metrics import recall_score\n",
    "from sklearn.metrics import f1_score\n"
   ]
  },
  {
   "cell_type": "code",
   "execution_count": null,
   "id": "9f4f813c",
   "metadata": {},
   "outputs": [],
   "source": [
    "#NB! This is only to get to optimal parameters. Takes a looong time.\n",
    "\n",
    "\n",
    "#Result_list=[]\n",
    "#Elements=[]\n",
    "#for i in range(10, 1011, 100):\n",
    "#    print(\"_____________________\")\n",
    "#    print(i)\n",
    "#    Elements.append(i)\n",
    "#    \n",
    "#    RF = RandomForestClassifier(n_estimators= i)\n",
    "#    RF.fit(X_train_resh, y_train_gen.ravel())\n",
    "#    predicted=RF.predict(X_test_resh)\n",
    "#    \n",
    "#    acc=round(RF.score(X_test_resh, y_test), 5)\n",
    "#    #print(f\"Validation accuracy for {i} is {acc}%\")\n",
    "#    \n",
    "#    recall=round(recall_score(y_test, predicted, average='macro'), 5)\n",
    "#    #print(f\"Recall score for {i} is {recall}\")\n",
    "#    \n",
    "#    \n",
    "#    f1=round(f1_score(y_test, predicted, average='macro'),5)\n",
    "#    #print(f\"F1 score for {i} is {f1}\")\n",
    "#    \n",
    "#    Result_list.append([acc, recall, f1])\n"
   ]
  },
  {
   "cell_type": "code",
   "execution_count": null,
   "id": "634d9a42",
   "metadata": {},
   "outputs": [],
   "source": [
    "#Dependent on the last point\n",
    "\n",
    "#Accuracy = [sublist[0] for sublist in Result_list]\n",
    "#Recall= [sublist[1] for sublist in Result_list]\n",
    "#F1= [sublist[2] for sublist in Result_list]\n",
    "#Average= [np.mean(sublist) for sublist in Result_list]\n",
    "#opt_elements=Elements[np.argmax(Average)]"
   ]
  },
  {
   "cell_type": "code",
   "execution_count": null,
   "id": "fa495ca5",
   "metadata": {},
   "outputs": [],
   "source": [
    "#Dependent on the last point\n",
    "#print(\"The best ones:\")\n",
    "#print(\"Accuracy\", np.max(Accuracy), \"at\", Elements[np.argmax(Accuracy)])\n",
    "#print(\"Recall\", np.max(Recall), \"at\", Elements[np.argmax(Recall)])\n",
    "#print(\"F1 score\", np.max(F1), \"at\", Elements[np.argmax(F1)])\n",
    "#print(\"The chosen one:\", opt_elements)\n"
   ]
  },
  {
   "cell_type": "code",
   "execution_count": 14,
   "id": "ff08ad7b",
   "metadata": {},
   "outputs": [
    {
     "data": {
      "text/plain": [
       "RandomForestClassifier(n_estimators=130)"
      ]
     },
     "execution_count": 14,
     "metadata": {},
     "output_type": "execute_result"
    }
   ],
   "source": [
    "\n",
    "opt_estimators=130\n",
    "\n",
    "RF_optim = RandomForestClassifier(n_estimators= opt_estimators)\n",
    "RF_optim.fit(X_train_resh, y_train_gen.ravel())\n"
   ]
  },
  {
   "cell_type": "code",
   "execution_count": 15,
   "id": "5292465d",
   "metadata": {
    "scrolled": true
   },
   "outputs": [
    {
     "name": "stdout",
     "output_type": "stream",
     "text": [
      "Accuracy at 130 estimators is 61.54% \n",
      "Recall is 42.11%\n",
      "F1 score is 41.28%\n"
     ]
    }
   ],
   "source": [
    "\n",
    "predicted=RF_optim.predict(X_test_resh)\n",
    "print(f\"Accuracy at {opt_estimators} estimators is {round(RF_optim.score(X_test_resh, y_test)*100, 2)}% \\nRecall is {round(recall_score(y_test, predicted, average='macro')*100, 2)}%\\nF1 score is {round(f1_score(y_test, predicted, average='macro')*100,2)}%\")\n",
    "                                                                           "
   ]
  },
  {
   "cell_type": "code",
   "execution_count": 30,
   "id": "8a4f721b",
   "metadata": {},
   "outputs": [
    {
     "data": {
      "image/png": "[encoded data removed]",
      "text/plain": [
       "<Figure size 2000x1800 with 2 Axes>"
      ]
     },
     "metadata": {},
     "output_type": "display_data"
    }
   ],
   "source": [
    "from sklearn.metrics import ConfusionMatrixDisplay\n",
    "from sklearn.metrics import confusion_matrix\n",
    "\n",
    "disp = ConfusionMatrixDisplay(\n",
    "        confusion_matrix = confusion_matrix(y_test, predicted), \n",
    "        display_labels = CLASS_NAMES)\n",
    "disp.plot()\n",
    "plt.show()"
   ]
  },
  {
   "cell_type": "markdown",
   "id": "51dc7973",
   "metadata": {},
   "source": [
    "**XGBoost**"
   ]
  },
  {
   "cell_type": "code",
   "execution_count": 20,
   "id": "9ea5ded6",
   "metadata": {
    "scrolled": true
   },
   "outputs": [
    {
     "name": "stderr",
     "output_type": "stream",
     "text": [
      "/gpfs/space/home/oliverpu/.conda/envs/condatest/lib/python3.10/site-packages/xgboost/compat.py:36: FutureWarning: pandas.Int64Index is deprecated and will be removed from pandas in a future version. Use pandas.Index with the appropriate dtype instead.\n",
      "  from pandas import MultiIndex, Int64Index\n"
     ]
    }
   ],
   "source": [
    "\n",
    "import xgboost as xgb\n",
    "import sklearn\n"
   ]
  },
  {
   "cell_type": "code",
   "execution_count": 21,
   "id": "1e3ae737",
   "metadata": {},
   "outputs": [],
   "source": [
    "\n",
    "dtrain = xgb.DMatrix(X_train_resh, label=y_train_gen)\n",
    "dtest = xgb.DMatrix(X_test_resh, label=y_test)\n"
   ]
  },
  {
   "cell_type": "code",
   "execution_count": null,
   "id": "e89c50a8",
   "metadata": {},
   "outputs": [],
   "source": [
    "\n",
    "#NB! This is only to get to optimal parameters. Takes a looong time.\n",
    "\n",
    "#n_rounds = 300\n",
    "#early_stopping = 4\n",
    "\n",
    "#highsc=0\n",
    "#nr=0\n",
    "\n",
    "#eval_list = [(dtrain, \"train\"), (dtest, \"validation\")]\n",
    "\n",
    "#scores=[]\n",
    "#nr=[]\n",
    "\n",
    "#for i in range(1, 42, 2):\n",
    "#    print(\"_________\")\n",
    "#    print(i)\n",
    "#    nr.append(i)\n",
    "    \n",
    "#    param_list = [(\"objective\", \"multi:softmax\"), (\"eval_metric\", \"merror\"), (\"num_class\", 3), (\"max_depth\", i)]\n",
    "#    bst = xgb.train(param_list, dtrain, n_rounds, evals=eval_list, early_stopping_rounds=early_stopping, verbose_eval=True)\n",
    "#    ypred = bst.predict(dtest)\n",
    "#    score=round(sklearn.metrics.accuracy_score(ypred, y_test)*100, 5)\n",
    "#    scores.append(score)\n",
    "\n",
    "\n",
    "#print(\"Different scores were:\", scores)\n",
    "#opt_choice=nr[np.argmax(scores)]\n",
    "#print(\"Best accuracy was\", np.max(scores),\"at\", opt_choice, \"elements\")\n"
   ]
  },
  {
   "cell_type": "code",
   "execution_count": 22,
   "id": "6d6db00a",
   "metadata": {
    "scrolled": true
   },
   "outputs": [
    {
     "name": "stdout",
     "output_type": "stream",
     "text": [
      "[0]\ttrain-mlogloss:0.89180\tvalidation-mlogloss:1.05588\n",
      "[1]\ttrain-mlogloss:0.76532\tvalidation-mlogloss:1.01808\n",
      "[2]\ttrain-mlogloss:0.67938\tvalidation-mlogloss:0.99820\n",
      "[3]\ttrain-mlogloss:0.62063\tvalidation-mlogloss:1.00534\n",
      "[4]\ttrain-mlogloss:0.57861\tvalidation-mlogloss:1.00659\n",
      "[5]\ttrain-mlogloss:0.54961\tvalidation-mlogloss:1.00955\n",
      "[6]\ttrain-mlogloss:0.52780\tvalidation-mlogloss:1.00223\n",
      "[7]\ttrain-mlogloss:0.51171\tvalidation-mlogloss:0.99138\n",
      "[8]\ttrain-mlogloss:0.49948\tvalidation-mlogloss:1.00805\n",
      "[9]\ttrain-mlogloss:0.49029\tvalidation-mlogloss:1.00227\n",
      "[10]\ttrain-mlogloss:0.48335\tvalidation-mlogloss:1.01380\n",
      "[11]\ttrain-mlogloss:0.47793\tvalidation-mlogloss:1.01977\n",
      "[12]\ttrain-mlogloss:0.47372\tvalidation-mlogloss:1.02154\n",
      "[13]\ttrain-mlogloss:0.47044\tvalidation-mlogloss:1.02226\n",
      "[14]\ttrain-mlogloss:0.46776\tvalidation-mlogloss:1.02792\n",
      "[15]\ttrain-mlogloss:0.46569\tvalidation-mlogloss:1.02626\n",
      "[16]\ttrain-mlogloss:0.46390\tvalidation-mlogloss:1.03122\n",
      "[17]\ttrain-mlogloss:0.46258\tvalidation-mlogloss:1.03312\n",
      "[18]\ttrain-mlogloss:0.46139\tvalidation-mlogloss:1.03570\n",
      "[19]\ttrain-mlogloss:0.46035\tvalidation-mlogloss:1.03558\n",
      "[20]\ttrain-mlogloss:0.45949\tvalidation-mlogloss:1.04158\n",
      "[21]\ttrain-mlogloss:0.45877\tvalidation-mlogloss:1.04982\n"
     ]
    }
   ],
   "source": [
    "opt_choice= 15 #Untoggle this if you go through the long process\n",
    "\n",
    "param_list = [(\"objective\", \"multi:softmax\"), (\"eval_metric\", \"mlogloss\"), (\"num_class\", 3), (\"max_depth\", opt_choice)]\n",
    "\n",
    "n_rounds = 600\n",
    "\n",
    "early_stopping = 15\n",
    "eval_list = [(dtrain, \"train\"), (dtest, \"validation\")]\n",
    "\n",
    "bst = xgb.train(param_list, dtrain, n_rounds, evals=eval_list, early_stopping_rounds=early_stopping, verbose_eval=True)\n"
   ]
  },
  {
   "cell_type": "code",
   "execution_count": 24,
   "id": "d5cf4c26",
   "metadata": {},
   "outputs": [
    {
     "name": "stdout",
     "output_type": "stream",
     "text": [
      "Accuracy at depth 15 is 48.72% \n",
      "Recall is 33.33%\n",
      "F1 score is 27.9%\n"
     ]
    }
   ],
   "source": [
    "\n",
    "ypred = bst.predict(dtest)\n",
    "print(f\"Accuracy at depth {15} is {round(sklearn.metrics.accuracy_score(y_test, ypred)*100, 2)}% \\nRecall is {round(recall_score(y_test, ypred, average='macro')*100, 2)}%\\nF1 score is {round(f1_score(y_test, ypred, average='macro')*100,2)}%\")\n",
    "                                            "
   ]
  },
  {
   "cell_type": "code",
   "execution_count": 29,
   "id": "a5c123e5",
   "metadata": {},
   "outputs": [
    {
     "data": {
      "image/png": "[encoded data removed]",
      "text/plain": [
       "<Figure size 2000x1800 with 2 Axes>"
      ]
     },
     "metadata": {},
     "output_type": "display_data"
    }
   ],
   "source": [
    "disp = ConfusionMatrixDisplay(\n",
    "        confusion_matrix = confusion_matrix(y_test, ypred), \n",
    "        display_labels = CLASS_NAMES)\n",
    "disp.plot()\n",
    "plt.show()\n"
   ]
  }
 ],
 "metadata": {
  "kernelspec": {
   "display_name": "Python 3 (ipykernel)",
   "language": "python",
   "name": "python3"
  },
  "language_info": {
   "codemirror_mode": {
    "name": "ipython",
    "version": 3
   },
   "file_extension": ".py",
   "mimetype": "text/x-python",
   "name": "python",
   "nbconvert_exporter": "python",
   "pygments_lexer": "ipython3",
   "version": "3.10.8"
  }
 },
 "nbformat": 4,
 "nbformat_minor": 5
}
